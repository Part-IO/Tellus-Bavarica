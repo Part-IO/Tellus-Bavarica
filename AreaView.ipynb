{
 "cells": [
  {
   "cell_type": "markdown",
   "source": [
    "## Task: Find most expensive area in Bavaria "
   ],
   "metadata": {
    "collapsed": false
   }
  },
  {
   "cell_type": "code",
   "execution_count": null,
   "outputs": [],
   "source": [
    "import pandas as pd\n",
    "import numpy as np\n",
    "import matplotlib.pyplot as plt "
   ],
   "metadata": {
    "collapsed": false,
    "pycharm": {
     "name": "#%%\n"
    }
   }
  },
  {
   "cell_type": "markdown",
   "source": [
    "1. Einlesen der Daten aus gegebener Tabelle\n",
    "    * df ist der main DataFrame mit den Preisen je nach Gemeinde"
   ],
   "metadata": {
    "collapsed": false
   }
  },
  {
   "cell_type": "code",
   "execution_count": null,
   "outputs": [],
   "source": [
    "df = pd.read_excel('Data/Kaufpreis.xlsx')\n",
    "df = df.iloc[6:, :]\n",
    "df.columns = ['ID', 'Gemeinde', 'Bauland_Anzahl', 'Baureifes_Anzahl', 'BaulandQM', 'BaureifQM', 'BaulandEuro', 'BaureifEuro', 'BaulandEQM', 'BaureifEQM']"
   ],
   "metadata": {
    "collapsed": false,
    "pycharm": {
     "name": "#%%\n"
    }
   }
  },
  {
   "cell_type": "markdown",
   "source": [
    "2. Lösche aus Tabelle alle leeren Zeilen sowie Einträge mit weniger als 10 Einträgen (Verkäufen)"
   ],
   "metadata": {
    "collapsed": false
   }
  },
  {
   "cell_type": "code",
   "execution_count": null,
   "outputs": [],
   "source": [
    "# Lösche leere Zeielen aus Tabelle\n",
    "df['Bauland_Anzahl'].replace('-', np.nan, inplace=True)\n",
    "df.dropna(subset = ['Bauland_Anzahl'], inplace=True)\n",
    "# Lösche Gemeinden mit weniger als 10 Einträgen\n",
    "df = df[~(df['Bauland_Anzahl'] <= 10)]\n",
    "print(df)"
   ],
   "metadata": {
    "collapsed": false,
    "pycharm": {
     "name": "#%%\n"
    }
   }
  },
  {
   "cell_type": "markdown",
   "source": [
    "3. Erstellen eines neuen Dataframes nur mit benötigten Spalten\n",
    "    * Es werden dabei zwei (optisch) identische neue Dataframes angelegt\n",
    "        * collection: Zusammengeführte Tabelle, mit ID als String (für weitere Verwendung)\n",
    "        * collectionInt: ID als INT, um nach Gemeinden, Landkreisen und Regierungsbezirken einfach filtern zu können"
   ],
   "metadata": {
    "collapsed": false
   }
  },
  {
   "cell_type": "code",
   "execution_count": null,
   "outputs": [],
   "source": [
    "gemeinde = df['Gemeinde'].astype(str)\n",
    "collection = pd.DataFrame(gemeinde)\n",
    "\n",
    "#baulandAnz = df['Bauland_Anzahl'].astype(float)\n",
    "#collection['Bauland_Anzahl'] = baulandAnz\n",
    "\n",
    "baulandEQM = df['BaulandEQM'].astype(float)\n",
    "collection['BaulandEQM'] = baulandEQM\n",
    "\n",
    "ID = df['ID']\n",
    "collection['ID'] = ID"
   ],
   "metadata": {
    "collapsed": false,
    "pycharm": {
     "name": "#%%\n"
    }
   }
  },
  {
   "cell_type": "markdown",
   "source": [
    "4. Ausgabe der Liste ohne Städte (nur Landkreise) sortiert nach teurstem Landkreis\n",
    "    --> Siehe Erste Visualisierung"
   ],
   "metadata": {
    "collapsed": false
   }
  },
  {
   "cell_type": "markdown",
   "source": [
    "5. Laden einer neuen Tabelle (df2) mit Informationen über die Flächennutzung in den einzelnen Gemeinden\n",
    "    * Zusammenführen der gesammelten Informationene in eine neue Tabelle results"
   ],
   "metadata": {
    "collapsed": false
   }
  },
  {
   "cell_type": "code",
   "execution_count": null,
   "outputs": [],
   "source": [
    "df2 = pd.read_excel('Data/AreaUsage.xlsx')\n",
    "df2 = df2.iloc[6:, :]\n",
    "df2.columns = ['ID', 'Gemeinde2', 'FlächeGesamt', 'Siedlung', 'Verkehr', 'Vegetation', 'Gewässer']\n",
    "df2.replace('-', np.nan, inplace=True)\n",
    "df2.dropna(inplace=True)\n",
    "result = pd.merge(collection, df2, left_on='ID', right_on='ID', how='left').drop('Gemeinde2', axis=1)"
   ],
   "metadata": {
    "collapsed": false,
    "pycharm": {
     "name": "#%%\n"
    }
   }
  },
  {
   "cell_type": "markdown",
   "source": [
    "6. Alle Werte müssen als numerischer Wert vorliegen. Sie werden deshalb vorsorglich umgeformt"
   ],
   "metadata": {
    "collapsed": false
   }
  },
  {
   "cell_type": "code",
   "execution_count": null,
   "outputs": [],
   "source": [
    "pd.to_numeric(result['FlächeGesamt']);\n",
    "pd.to_numeric(result['Siedlung']);\n",
    "pd.to_numeric(result['Verkehr']);\n",
    "pd.to_numeric(result['Vegetation']);\n",
    "pd.to_numeric(result['Gewässer']);"
   ],
   "metadata": {
    "collapsed": false,
    "pycharm": {
     "name": "#%%\n"
    }
   }
  },
  {
   "cell_type": "markdown",
   "source": [
    "7. Anschließend können die Ergebnisse in einer eigenen Tabelle zwischengespeichert werden"
   ],
   "metadata": {
    "collapsed": false
   }
  },
  {
   "cell_type": "code",
   "execution_count": null,
   "outputs": [],
   "source": [
    "#result.to_excel(\"Data/Collection.xlsx\")\n",
    "#print(result)"
   ],
   "metadata": {
    "collapsed": false,
    "pycharm": {
     "name": "#%%\n"
    }
   }
  },
  {
   "cell_type": "code",
   "execution_count": null,
   "outputs": [],
   "source": [
    "correlation = result[['BaulandEQM', 'Siedlung']]\n",
    "corr_df = result.corr(method='spearman')\n",
    "#corr_df = correlation.corr(method='spearman')\n",
    "corr_df.style.background_gradient(cmap='coolwarm')\n",
    "#print(\"The correlation DataFrame is:\")\n",
    "print(corr_df, \"\\n\")"
   ],
   "metadata": {
    "collapsed": false,
    "pycharm": {
     "name": "#%%\n"
    }
   }
  },
  {
   "cell_type": "code",
   "execution_count": null,
   "outputs": [],
   "source": [
    "import seaborn as sns\n",
    "corr = result.corr()\n",
    "sns.heatmap(corr, \n",
    "            xticklabels=corr.columns.values,\n",
    "            yticklabels=corr.columns.values)"
   ],
   "metadata": {
    "collapsed": false,
    "pycharm": {
     "name": "#%%\n"
    }
   }
  },
  {
   "cell_type": "markdown",
   "source": [
    "### Ergebnis aus Flächennutzung: \n",
    "Es besteht eine leichte Korellation zwischen dem Preis pro QM Bauland und der Siedlungsfläche (0.224403) "
   ],
   "metadata": {
    "collapsed": false
   }
  },
  {
   "cell_type": "markdown",
   "source": [
    "8. Hinzufügen einer neuen Tabelle mit Informationen zu dem Pendlersaldo in die einzelnen Gemeinden\n",
    "    * Diese müssen ebenfalls zunächst gefiltert, angepasst und neu definiert werden"
   ],
   "metadata": {
    "collapsed": false
   }
  },
  {
   "cell_type": "code",
   "execution_count": null,
   "outputs": [],
   "source": [
    "df3 = pd.read_excel('Data/Pendlersaldo.xlsx', sheet_name=\"Gemeinden\")\n",
    "df3 = df3.iloc[8:, :]\n",
    "df3.columns = ['ID', 'Gemeinde', 'Puffer', '1', '2', '3', '4', '5', '6', '7', '8', '9', 'Pendlersaldo']\n",
    "df3['Pendlersaldo'].replace('-', np.nan, inplace=True)\n",
    "df3.dropna(subset = ['Pendlersaldo'], inplace=True)\n",
    "print(df3)"
   ],
   "metadata": {
    "collapsed": false,
    "pycharm": {
     "name": "#%%\n"
    }
   }
  },
  {
   "cell_type": "markdown",
   "source": [
    "9. Anlegen einer neuen Tabelle nur mit Pendlerinformationen. Da ID nicht einheitlich, muss stattdessen über den Namen der Gemeinde verknüpft werden\n",
    "    * https://www.statistikdaten.bayern.de/genesis/online?operation=ergebnistabelleUmfang&levelindex=2&levelid=1647274508995&downloadname=13111-101r#abreadcrumb"
   ],
   "metadata": {
    "collapsed": false
   }
  },
  {
   "cell_type": "code",
   "execution_count": null,
   "outputs": [],
   "source": [
    "gemeinde = df3['Gemeinde'].astype(str)\n",
    "pendler = pd.DataFrame(gemeinde)\n",
    "saldo = df3['Pendlersaldo']\n",
    "pendler['Pendlersaldo'] = saldo\n",
    "print(pendler.sort_values(by=['Gemeinde'])[0:20])"
   ],
   "metadata": {
    "collapsed": false,
    "pycharm": {
     "name": "#%%\n"
    }
   }
  },
  {
   "cell_type": "code",
   "execution_count": null,
   "outputs": [],
   "source": [
    "result.Gemeinde = result.Gemeinde.str.encode('utf-8')\n",
    "pendler.Gemeinde = pendler.Gemeinde.str.encode('utf-8')\n",
    "print(result.dtypes)\n",
    "print('pass')\n",
    "print(pendler.dtypes)"
   ],
   "metadata": {
    "collapsed": false,
    "pycharm": {
     "name": "#%%\n"
    }
   }
  },
  {
   "cell_type": "code",
   "execution_count": null,
   "outputs": [],
   "source": [
    "result.Gemeinde = result.Gemeinde.str.strip()\n",
    "pendler.Gemeinde = pendler.Gemeinde.str.strip()"
   ],
   "metadata": {
    "collapsed": false,
    "pycharm": {
     "name": "#%%\n"
    }
   }
  },
  {
   "cell_type": "code",
   "execution_count": null,
   "outputs": [],
   "source": [
    "result.reset_index(drop=True)\n",
    "result2 = pd.merge(result, pendler, left_on='Gemeinde', right_on='Gemeinde', how='left')#.drop('Gemeinde2', axis=1)\n",
    "print(result2.sort_values(by=['Gemeinde']))"
   ],
   "metadata": {
    "collapsed": false,
    "pycharm": {
     "name": "#%%\n"
    }
   }
  },
  {
   "cell_type": "code",
   "execution_count": null,
   "outputs": [],
   "source": [
    "#result2.to_excel(\"Data/PendlerSammlung.xlsx\")"
   ],
   "metadata": {
    "collapsed": false,
    "pycharm": {
     "name": "#%%\n"
    }
   }
  },
  {
   "cell_type": "code",
   "execution_count": null,
   "outputs": [],
   "source": [
    "result2['Pendlersaldo'].replace('•', np.nan, inplace=True)\n",
    "result2.dropna(subset = ['Pendlersaldo'], inplace=True)\n",
    "\n",
    "#result2.replace('.', np.nan, inplace=True)\n",
    "#result2.dropna(inplace=True)\n",
    "print(result2[345:350])"
   ],
   "metadata": {
    "collapsed": false,
    "pycharm": {
     "name": "#%%\n"
    }
   }
  },
  {
   "cell_type": "code",
   "execution_count": null,
   "outputs": [],
   "source": [
    "#pd.to_numeric(result2['Pendlersaldo']);\n",
    "corr_df = result2.corr(method='spearman')\n",
    "print(corr_df)"
   ],
   "metadata": {
    "collapsed": false,
    "pycharm": {
     "name": "#%%\n"
    }
   }
  },
  {
   "cell_type": "markdown",
   "source": [
    "### Ergebnis aus Pendlersaldo:\n",
    "   * Es besteht (nahezu) keine Korrellation (-0.067196) zwischen dem Pendlersaldo und den Grundstückswerten \n",
    "   "
   ],
   "metadata": {
    "collapsed": false
   }
  },
  {
   "cell_type": "code",
   "execution_count": null,
   "outputs": [],
   "source": [
    "corr = result2.corr()\n",
    "sns.heatmap(corr, \n",
    "            xticklabels=corr.columns.values,\n",
    "            yticklabels=corr.columns.values)"
   ],
   "metadata": {
    "collapsed": false,
    "pycharm": {
     "name": "#%%\n"
    }
   }
  }
 ],
 "metadata": {
  "kernelspec": {
   "display_name": "Python 3",
   "language": "python",
   "name": "python3"
  },
  "language_info": {
   "codemirror_mode": {
    "name": "ipython",
    "version": 3
   },
   "file_extension": ".py",
   "mimetype": "text/x-python",
   "name": "python",
   "nbconvert_exporter": "python",
   "pygments_lexer": "ipython3",
   "version": "3.7.0"
  },
  "pycharm": {
   "stem_cell": {
    "cell_type": "raw",
    "source": [],
    "metadata": {
     "collapsed": false
    }
   }
  }
 },
 "nbformat": 4,
 "nbformat_minor": 1
}